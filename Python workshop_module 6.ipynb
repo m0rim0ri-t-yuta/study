{
 "cells": [
  {
   "cell_type": "code",
   "execution_count": 2,
   "id": "1662dc28",
   "metadata": {
    "tags": [
     ">create"
    ]
   },
   "outputs": [],
   "source": [
    "trickers = ['FB', 'AAPL', 'NFLX']\n",
    "prices = [331.9, 173.07, 525,69]"
   ]
  },
  {
   "cell_type": "code",
   "execution_count": 3,
   "id": "9a55511f",
   "metadata": {},
   "outputs": [
    {
     "data": {
      "text/plain": [
       "173.07"
      ]
     },
     "execution_count": 3,
     "metadata": {},
     "output_type": "execute_result"
    }
   ],
   "source": [
    "prices[trickers.index('AAPL')]"
   ]
  },
  {
   "cell_type": "code",
   "execution_count": 4,
   "id": "90ab4278",
   "metadata": {},
   "outputs": [],
   "source": [
    "prices = {'FB': 331.9, 'AAPL':173.07, 'NFLX':525.69}"
   ]
  },
  {
   "cell_type": "code",
   "execution_count": null,
   "id": "fd2151e7",
   "metadata": {},
   "outputs": [
    {
     "data": {
      "text/plain": [
       "173.07"
      ]
     },
     "execution_count": 5,
     "metadata": {},
     "output_type": "execute_result"
    }
   ],
   "source": [
    "prices['AAPL']"
   ]
  },
  {
   "cell_type": "code",
   "execution_count": 6,
   "id": "a20bc39d",
   "metadata": {},
   "outputs": [],
   "source": [
    "prices['MSFT'] = 310"
   ]
  },
  {
   "cell_type": "code",
   "execution_count": 7,
   "id": "ea4f62b3",
   "metadata": {},
   "outputs": [
    {
     "data": {
      "text/plain": [
       "{'FB': 331.9, 'AAPL': 173.07, 'NFLX': 525.69, 'MSFT': 310}"
      ]
     },
     "execution_count": 7,
     "metadata": {},
     "output_type": "execute_result"
    }
   ],
   "source": [
    "prices"
   ]
  },
  {
   "cell_type": "code",
   "execution_count": 8,
   "id": "216f068e",
   "metadata": {},
   "outputs": [],
   "source": [
    "del prices['FB']"
   ]
  },
  {
   "cell_type": "code",
   "execution_count": 9,
   "id": "7447b9ea",
   "metadata": {},
   "outputs": [
    {
     "data": {
      "text/plain": [
       "{'AAPL': 173.07, 'NFLX': 525.69, 'MSFT': 310}"
      ]
     },
     "execution_count": 9,
     "metadata": {},
     "output_type": "execute_result"
    }
   ],
   "source": [
    "prices"
   ]
  },
  {
   "cell_type": "code",
   "execution_count": 10,
   "id": "453422e0",
   "metadata": {},
   "outputs": [
    {
     "data": {
      "text/plain": [
       "False"
      ]
     },
     "execution_count": 10,
     "metadata": {},
     "output_type": "execute_result"
    }
   ],
   "source": [
    "'APPL' in prices"
   ]
  },
  {
   "cell_type": "code",
   "execution_count": 11,
   "id": "0fab884d",
   "metadata": {},
   "outputs": [
    {
     "data": {
      "text/plain": [
       "True"
      ]
     },
     "execution_count": 11,
     "metadata": {},
     "output_type": "execute_result"
    }
   ],
   "source": [
    "'AAPL' in prices"
   ]
  },
  {
   "cell_type": "code",
   "execution_count": 13,
   "id": "d518203b",
   "metadata": {},
   "outputs": [
    {
     "name": "stdout",
     "output_type": "stream",
     "text": [
      "AAPL : 173.07\n",
      "NFLX : 525.69\n",
      "MSFT : 310\n"
     ]
    }
   ],
   "source": [
    "for i in prices:\n",
    "    print(f'{i} : {prices[i]}')"
   ]
  },
  {
   "cell_type": "code",
   "execution_count": 14,
   "id": "5a74fa50",
   "metadata": {},
   "outputs": [],
   "source": [
    "trickes = 'GOOG MSFT MSFT GOOG MSFT MSFT TSLA PLTR PLTR PLTR GOOG GOOG GOOG'"
   ]
  },
  {
   "cell_type": "code",
   "execution_count": 15,
   "id": "936e76dc",
   "metadata": {},
   "outputs": [],
   "source": [
    "trickes = trickes.split(' ')"
   ]
  },
  {
   "cell_type": "code",
   "execution_count": 16,
   "id": "d7919009",
   "metadata": {},
   "outputs": [
    {
     "data": {
      "text/plain": [
       "['GOOG',\n",
       " 'MSFT',\n",
       " 'MSFT',\n",
       " 'GOOG',\n",
       " 'MSFT',\n",
       " 'MSFT',\n",
       " 'TSLA',\n",
       " 'PLTR',\n",
       " 'PLTR',\n",
       " 'PLTR',\n",
       " 'GOOG',\n",
       " 'GOOG',\n",
       " 'GOOG']"
      ]
     },
     "execution_count": 16,
     "metadata": {},
     "output_type": "execute_result"
    }
   ],
   "source": [
    "trickes"
   ]
  },
  {
   "cell_type": "code",
   "execution_count": 19,
   "id": "a7e86631",
   "metadata": {},
   "outputs": [],
   "source": [
    "tricker_dict = {}\n",
    "\n",
    "for i in trickes:\n",
    "    if i in tricker_dict:\n",
    "        tricker_dict[i] = tricker_dict[i] + 1\n",
    "    else:\n",
    "        tricker_dict[i] = 1"
   ]
  },
  {
   "cell_type": "code",
   "execution_count": 20,
   "id": "9efb18b7",
   "metadata": {},
   "outputs": [
    {
     "data": {
      "text/plain": [
       "{'GOOG': 5, 'MSFT': 4, 'TSLA': 1, 'PLTR': 3}"
      ]
     },
     "execution_count": 20,
     "metadata": {},
     "output_type": "execute_result"
    }
   ],
   "source": [
    "tricker_dict"
   ]
  },
  {
   "cell_type": "code",
   "execution_count": null,
   "id": "9fa22f94",
   "metadata": {},
   "outputs": [],
   "source": [
    "\n"
   ]
  }
 ],
 "metadata": {
  "kernelspec": {
   "display_name": "Python 3",
   "language": "python",
   "name": "python3"
  },
  "language_info": {
   "codemirror_mode": {
    "name": "ipython",
    "version": 3
   },
   "file_extension": ".py",
   "mimetype": "text/x-python",
   "name": "python",
   "nbconvert_exporter": "python",
   "pygments_lexer": "ipython3",
   "version": "3.13.5"
  }
 },
 "nbformat": 4,
 "nbformat_minor": 5
}
