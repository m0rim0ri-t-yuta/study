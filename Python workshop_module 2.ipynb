{
 "cells": [
  {
   "cell_type": "code",
   "execution_count": 1,
   "id": "73895321",
   "metadata": {},
   "outputs": [
    {
     "data": {
      "text/plain": [
       "int"
      ]
     },
     "execution_count": 1,
     "metadata": {},
     "output_type": "execute_result"
    }
   ],
   "source": [
    "x = 5\n",
    "type (x)"
   ]
  },
  {
   "cell_type": "code",
   "execution_count": 2,
   "id": "56cb8eed",
   "metadata": {},
   "outputs": [],
   "source": [
    "x = 'hello'\n",
    "y = 'goodbye'\n",
    "z = x + y"
   ]
  },
  {
   "cell_type": "code",
   "execution_count": 3,
   "id": "94c241e5",
   "metadata": {},
   "outputs": [
    {
     "data": {
      "text/plain": [
       "'hellogoodbye'"
      ]
     },
     "execution_count": 3,
     "metadata": {},
     "output_type": "execute_result"
    }
   ],
   "source": [
    "z"
   ]
  },
  {
   "cell_type": "code",
   "execution_count": null,
   "id": "f6634e6f",
   "metadata": {},
   "outputs": [
    {
     "data": {
      "text/plain": [
       "'hello goodbye'"
      ]
     },
     "execution_count": 4,
     "metadata": {},
     "output_type": "execute_result"
    }
   ],
   "source": [
    "x + ' ' + y"
   ]
  },
  {
   "cell_type": "code",
   "execution_count": 5,
   "id": "556af19c",
   "metadata": {},
   "outputs": [
    {
     "data": {
      "text/plain": [
       "5"
      ]
     },
     "execution_count": 5,
     "metadata": {},
     "output_type": "execute_result"
    }
   ],
   "source": [
    "x = 'hello'\n",
    "len(x)"
   ]
  },
  {
   "cell_type": "code",
   "execution_count": 6,
   "id": "c6dd88d0",
   "metadata": {},
   "outputs": [],
   "source": [
    "s = 'Arthur'"
   ]
  },
  {
   "cell_type": "code",
   "execution_count": 7,
   "id": "ee723457",
   "metadata": {},
   "outputs": [
    {
     "data": {
      "text/plain": [
       "'r'"
      ]
     },
     "execution_count": 7,
     "metadata": {},
     "output_type": "execute_result"
    }
   ],
   "source": [
    "s[1]"
   ]
  },
  {
   "cell_type": "code",
   "execution_count": 8,
   "id": "f739fe67",
   "metadata": {},
   "outputs": [
    {
     "data": {
      "text/plain": [
       "'r'"
      ]
     },
     "execution_count": 8,
     "metadata": {},
     "output_type": "execute_result"
    }
   ],
   "source": [
    "#Last character\n",
    "s[len(s)-1]"
   ]
  },
  {
   "cell_type": "code",
   "execution_count": 9,
   "id": "a9761895",
   "metadata": {},
   "outputs": [
    {
     "data": {
      "text/plain": [
       "'u'"
      ]
     },
     "execution_count": 9,
     "metadata": {},
     "output_type": "execute_result"
    }
   ],
   "source": [
    "s[-2]"
   ]
  },
  {
   "cell_type": "code",
   "execution_count": 10,
   "id": "b59d5bd1",
   "metadata": {},
   "outputs": [],
   "source": [
    "x = 'Hello world'"
   ]
  },
  {
   "cell_type": "code",
   "execution_count": 11,
   "id": "a76769aa",
   "metadata": {},
   "outputs": [
    {
     "data": {
      "text/plain": [
       "'o wor'"
      ]
     },
     "execution_count": 11,
     "metadata": {},
     "output_type": "execute_result"
    }
   ],
   "source": [
    "x[4:9]"
   ]
  },
  {
   "cell_type": "code",
   "execution_count": 12,
   "id": "65bbee9e",
   "metadata": {},
   "outputs": [
    {
     "data": {
      "text/plain": [
       "'o '"
      ]
     },
     "execution_count": 12,
     "metadata": {},
     "output_type": "execute_result"
    }
   ],
   "source": [
    "x[4:6]"
   ]
  },
  {
   "cell_type": "code",
   "execution_count": 13,
   "id": "c4b99295",
   "metadata": {},
   "outputs": [],
   "source": [
    "x = 'Hello, my name is Daniel'"
   ]
  },
  {
   "cell_type": "code",
   "execution_count": 14,
   "id": "181c5d2a",
   "metadata": {},
   "outputs": [
    {
     "data": {
      "text/plain": [
       "['Hello,', 'my', 'name', 'is', 'Daniel']"
      ]
     },
     "execution_count": 14,
     "metadata": {},
     "output_type": "execute_result"
    }
   ],
   "source": [
    "x.split()"
   ]
  },
  {
   "cell_type": "code",
   "execution_count": 15,
   "id": "0801550c",
   "metadata": {},
   "outputs": [
    {
     "data": {
      "text/plain": [
       "['Hello', ' my name is Daniel']"
      ]
     },
     "execution_count": 15,
     "metadata": {},
     "output_type": "execute_result"
    }
   ],
   "source": [
    "x.split(',')"
   ]
  },
  {
   "cell_type": "code",
   "execution_count": 16,
   "id": "01129742",
   "metadata": {},
   "outputs": [
    {
     "data": {
      "text/plain": [
       "'Hello, my name is Daniel'"
      ]
     },
     "execution_count": 16,
     "metadata": {},
     "output_type": "execute_result"
    }
   ],
   "source": [
    "' '.join(['Hello,', 'my', 'name', 'is', 'Daniel'])"
   ]
  },
  {
   "cell_type": "code",
   "execution_count": 17,
   "id": "23f0983c",
   "metadata": {},
   "outputs": [],
   "source": [
    "x = 'Hello, my name is Daniel'"
   ]
  },
  {
   "cell_type": "code",
   "execution_count": 18,
   "id": "df939dbd",
   "metadata": {},
   "outputs": [
    {
     "data": {
      "text/plain": [
       "'Hello,  my  name  is  Daniel'"
      ]
     },
     "execution_count": 18,
     "metadata": {},
     "output_type": "execute_result"
    }
   ],
   "source": [
    "'  '.join(x.split())"
   ]
  },
  {
   "cell_type": "code",
   "execution_count": 19,
   "id": "073218d5",
   "metadata": {},
   "outputs": [],
   "source": [
    "x = 'Hello'"
   ]
  },
  {
   "cell_type": "code",
   "execution_count": 20,
   "id": "efbe3b2a",
   "metadata": {},
   "outputs": [
    {
     "data": {
      "text/plain": [
       "'HELLO'"
      ]
     },
     "execution_count": 20,
     "metadata": {},
     "output_type": "execute_result"
    }
   ],
   "source": [
    "x.upper()"
   ]
  },
  {
   "cell_type": "code",
   "execution_count": 21,
   "id": "0b309b69",
   "metadata": {},
   "outputs": [
    {
     "data": {
      "text/plain": [
       "'hello'"
      ]
     },
     "execution_count": 21,
     "metadata": {},
     "output_type": "execute_result"
    }
   ],
   "source": [
    "x.lower()"
   ]
  },
  {
   "cell_type": "code",
   "execution_count": 22,
   "id": "0e1d0bc6",
   "metadata": {},
   "outputs": [],
   "source": [
    "x = x.upper()"
   ]
  },
  {
   "cell_type": "code",
   "execution_count": 23,
   "id": "f5d83d7a",
   "metadata": {},
   "outputs": [
    {
     "data": {
      "text/plain": [
       "'HELLO'"
      ]
     },
     "execution_count": 23,
     "metadata": {},
     "output_type": "execute_result"
    }
   ],
   "source": [
    "x"
   ]
  },
  {
   "cell_type": "code",
   "execution_count": 24,
   "id": "d2685dcd",
   "metadata": {},
   "outputs": [],
   "source": [
    "x = '1'\n",
    "y = 1"
   ]
  },
  {
   "cell_type": "code",
   "execution_count": 25,
   "id": "b797eba0",
   "metadata": {},
   "outputs": [
    {
     "data": {
      "text/plain": [
       "int"
      ]
     },
     "execution_count": 25,
     "metadata": {},
     "output_type": "execute_result"
    }
   ],
   "source": [
    "type(x)\n",
    "type(y)"
   ]
  },
  {
   "cell_type": "code",
   "execution_count": 26,
   "id": "8d366848",
   "metadata": {},
   "outputs": [
    {
     "data": {
      "text/plain": [
       "'11'"
      ]
     },
     "execution_count": 26,
     "metadata": {},
     "output_type": "execute_result"
    }
   ],
   "source": [
    "x + x"
   ]
  },
  {
   "cell_type": "code",
   "execution_count": 27,
   "id": "2252daeb",
   "metadata": {},
   "outputs": [
    {
     "data": {
      "text/plain": [
       "2"
      ]
     },
     "execution_count": 27,
     "metadata": {},
     "output_type": "execute_result"
    }
   ],
   "source": [
    "y + y"
   ]
  },
  {
   "cell_type": "code",
   "execution_count": 28,
   "id": "03531255",
   "metadata": {},
   "outputs": [
    {
     "data": {
      "text/plain": [
       "1"
      ]
     },
     "execution_count": 28,
     "metadata": {},
     "output_type": "execute_result"
    }
   ],
   "source": [
    "int(1.85)"
   ]
  },
  {
   "cell_type": "code",
   "execution_count": 29,
   "id": "f4fea748",
   "metadata": {},
   "outputs": [
    {
     "data": {
      "text/plain": [
       "2.0"
      ]
     },
     "execution_count": 29,
     "metadata": {},
     "output_type": "execute_result"
    }
   ],
   "source": [
    "round(1.8, 0)"
   ]
  },
  {
   "cell_type": "code",
   "execution_count": 30,
   "id": "9ecf8edd",
   "metadata": {},
   "outputs": [
    {
     "data": {
      "text/plain": [
       "1.0"
      ]
     },
     "execution_count": 30,
     "metadata": {},
     "output_type": "execute_result"
    }
   ],
   "source": [
    "round(1.3, 0)"
   ]
  },
  {
   "cell_type": "code",
   "execution_count": 31,
   "id": "3d69e02b",
   "metadata": {},
   "outputs": [
    {
     "data": {
      "text/plain": [
       "7"
      ]
     },
     "execution_count": 31,
     "metadata": {},
     "output_type": "execute_result"
    }
   ],
   "source": [
    "2^5"
   ]
  },
  {
   "cell_type": "code",
   "execution_count": 32,
   "id": "056414fb",
   "metadata": {},
   "outputs": [
    {
     "data": {
      "text/plain": [
       "32"
      ]
     },
     "execution_count": 32,
     "metadata": {},
     "output_type": "execute_result"
    }
   ],
   "source": [
    "2 ** 5"
   ]
  },
  {
   "cell_type": "code",
   "execution_count": 33,
   "id": "91522631",
   "metadata": {},
   "outputs": [
    {
     "data": {
      "text/plain": [
       "1"
      ]
     },
     "execution_count": 33,
     "metadata": {},
     "output_type": "execute_result"
    }
   ],
   "source": [
    "7 % 2"
   ]
  },
  {
   "cell_type": "code",
   "execution_count": 34,
   "id": "97067b9b",
   "metadata": {},
   "outputs": [
    {
     "data": {
      "text/plain": [
       "3"
      ]
     },
     "execution_count": 34,
     "metadata": {},
     "output_type": "execute_result"
    }
   ],
   "source": [
    "13 % 10"
   ]
  },
  {
   "cell_type": "code",
   "execution_count": 35,
   "id": "7da31e01",
   "metadata": {},
   "outputs": [],
   "source": [
    "x = 1"
   ]
  },
  {
   "cell_type": "code",
   "execution_count": 36,
   "id": "ceb24d95",
   "metadata": {},
   "outputs": [],
   "source": [
    "x += 5"
   ]
  },
  {
   "cell_type": "code",
   "execution_count": 37,
   "id": "75b2ceed",
   "metadata": {},
   "outputs": [
    {
     "data": {
      "text/plain": [
       "6"
      ]
     },
     "execution_count": 37,
     "metadata": {},
     "output_type": "execute_result"
    }
   ],
   "source": [
    "x"
   ]
  }
 ],
 "metadata": {
  "kernelspec": {
   "display_name": "Python 3",
   "language": "python",
   "name": "python3"
  },
  "language_info": {
   "codemirror_mode": {
    "name": "ipython",
    "version": 3
   },
   "file_extension": ".py",
   "mimetype": "text/x-python",
   "name": "python",
   "nbconvert_exporter": "python",
   "pygments_lexer": "ipython3",
   "version": "3.13.5"
  }
 },
 "nbformat": 4,
 "nbformat_minor": 5
}
