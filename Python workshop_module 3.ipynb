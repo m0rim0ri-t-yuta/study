{
 "cells": [
  {
   "cell_type": "code",
   "execution_count": 1,
   "id": "3f258db9",
   "metadata": {},
   "outputs": [],
   "source": [
    "x = [1,2,3,4,5]"
   ]
  },
  {
   "cell_type": "code",
   "execution_count": 2,
   "id": "27c682d0",
   "metadata": {},
   "outputs": [
    {
     "data": {
      "text/plain": [
       "4"
      ]
     },
     "execution_count": 2,
     "metadata": {},
     "output_type": "execute_result"
    }
   ],
   "source": [
    "x[3]"
   ]
  },
  {
   "cell_type": "code",
   "execution_count": 3,
   "id": "4292a95a",
   "metadata": {},
   "outputs": [
    {
     "data": {
      "text/plain": [
       "5"
      ]
     },
     "execution_count": 3,
     "metadata": {},
     "output_type": "execute_result"
    }
   ],
   "source": [
    "x[-1]"
   ]
  },
  {
   "cell_type": "code",
   "execution_count": 4,
   "id": "f034d546",
   "metadata": {},
   "outputs": [],
   "source": [
    "x[2] = 1000"
   ]
  },
  {
   "cell_type": "code",
   "execution_count": 5,
   "id": "5a3ab017",
   "metadata": {},
   "outputs": [
    {
     "data": {
      "text/plain": [
       "[1, 2, 1000, 4, 5]"
      ]
     },
     "execution_count": 5,
     "metadata": {},
     "output_type": "execute_result"
    }
   ],
   "source": [
    "x"
   ]
  },
  {
   "cell_type": "code",
   "execution_count": 7,
   "id": "1f4f1be4",
   "metadata": {},
   "outputs": [],
   "source": [
    "x = [1,2,3]\n",
    "y = [4,5,6]"
   ]
  },
  {
   "cell_type": "code",
   "execution_count": 8,
   "id": "d59164ea",
   "metadata": {},
   "outputs": [
    {
     "data": {
      "text/plain": [
       "[1, 2, 3, 4, 5, 6]"
      ]
     },
     "execution_count": 8,
     "metadata": {},
     "output_type": "execute_result"
    }
   ],
   "source": [
    "x + y"
   ]
  },
  {
   "cell_type": "code",
   "execution_count": 10,
   "id": "1358dfb9",
   "metadata": {},
   "outputs": [],
   "source": [
    "x = ['hello', 'my', 'is', 'Daniel']"
   ]
  },
  {
   "cell_type": "code",
   "execution_count": 12,
   "id": "39d19403",
   "metadata": {},
   "outputs": [
    {
     "data": {
      "text/plain": [
       "2"
      ]
     },
     "execution_count": 12,
     "metadata": {},
     "output_type": "execute_result"
    }
   ],
   "source": [
    "x.index('is')"
   ]
  },
  {
   "cell_type": "code",
   "execution_count": 13,
   "id": "2723510e",
   "metadata": {},
   "outputs": [],
   "source": [
    "x = [1,2,3,4]"
   ]
  },
  {
   "cell_type": "code",
   "execution_count": 14,
   "id": "049a3dac",
   "metadata": {},
   "outputs": [],
   "source": [
    "x.append(5)"
   ]
  },
  {
   "cell_type": "code",
   "execution_count": 15,
   "id": "a8a1455f",
   "metadata": {},
   "outputs": [
    {
     "data": {
      "text/plain": [
       "[1, 2, 3, 4, 5]"
      ]
     },
     "execution_count": 15,
     "metadata": {},
     "output_type": "execute_result"
    }
   ],
   "source": [
    "x"
   ]
  },
  {
   "cell_type": "code",
   "execution_count": 18,
   "id": "9035f32d",
   "metadata": {},
   "outputs": [],
   "source": [
    "x.extend([1000, 2000, 3000])"
   ]
  },
  {
   "cell_type": "code",
   "execution_count": 19,
   "id": "8cc32455",
   "metadata": {},
   "outputs": [
    {
     "data": {
      "text/plain": [
       "[1, 2, 3, 4, 5, 1000, 2000, 3000]"
      ]
     },
     "execution_count": 19,
     "metadata": {},
     "output_type": "execute_result"
    }
   ],
   "source": [
    "x"
   ]
  },
  {
   "cell_type": "code",
   "execution_count": 20,
   "id": "fe29f284",
   "metadata": {},
   "outputs": [],
   "source": [
    "x = [1,2,3]"
   ]
  },
  {
   "cell_type": "code",
   "execution_count": 21,
   "id": "547a1158",
   "metadata": {},
   "outputs": [],
   "source": [
    "x.append(5)"
   ]
  },
  {
   "cell_type": "code",
   "execution_count": 22,
   "id": "0afaa4de",
   "metadata": {},
   "outputs": [
    {
     "data": {
      "text/plain": [
       "[1, 2, 3, 5]"
      ]
     },
     "execution_count": 22,
     "metadata": {},
     "output_type": "execute_result"
    }
   ],
   "source": [
    "x"
   ]
  },
  {
   "cell_type": "code",
   "execution_count": 23,
   "id": "78fe3ccc",
   "metadata": {},
   "outputs": [],
   "source": [
    "y = x.append(6)"
   ]
  },
  {
   "cell_type": "code",
   "execution_count": 25,
   "id": "6442d97e",
   "metadata": {},
   "outputs": [
    {
     "name": "stdout",
     "output_type": "stream",
     "text": [
      "None\n"
     ]
    }
   ],
   "source": [
    "print(y)"
   ]
  },
  {
   "cell_type": "code",
   "execution_count": null,
   "id": "244e2e75",
   "metadata": {},
   "outputs": [],
   "source": []
  },
  {
   "cell_type": "code",
   "execution_count": 31,
   "id": "2867c4ba",
   "metadata": {},
   "outputs": [],
   "source": [
    "x = [1,2,3]\n",
    "y = list(x)\n",
    "y.append(4)"
   ]
  },
  {
   "cell_type": "code",
   "execution_count": 29,
   "id": "0edb896f",
   "metadata": {},
   "outputs": [
    {
     "data": {
      "text/plain": [
       "[1, 2, 3, 4]"
      ]
     },
     "execution_count": 29,
     "metadata": {},
     "output_type": "execute_result"
    }
   ],
   "source": [
    "y"
   ]
  },
  {
   "cell_type": "code",
   "execution_count": 32,
   "id": "f1aeb80b",
   "metadata": {},
   "outputs": [
    {
     "data": {
      "text/plain": [
       "[1, 2, 3]"
      ]
     },
     "execution_count": 32,
     "metadata": {},
     "output_type": "execute_result"
    }
   ],
   "source": [
    "x"
   ]
  },
  {
   "cell_type": "code",
   "execution_count": 33,
   "id": "a97d7ca7",
   "metadata": {},
   "outputs": [],
   "source": [
    "x = 'Hello, my name is Danie, and I live in New York.'"
   ]
  },
  {
   "cell_type": "code",
   "execution_count": 34,
   "id": "633fd637",
   "metadata": {},
   "outputs": [
    {
     "data": {
      "text/plain": [
       "['Hello', ' my name is Danie', ' and I live in New York.']"
      ]
     },
     "execution_count": 34,
     "metadata": {},
     "output_type": "execute_result"
    }
   ],
   "source": [
    "x.split(',')"
   ]
  },
  {
   "cell_type": "code",
   "execution_count": null,
   "id": "b2821b52",
   "metadata": {},
   "outputs": [],
   "source": []
  },
  {
   "cell_type": "code",
   "execution_count": 35,
   "id": "75f9f4ca",
   "metadata": {},
   "outputs": [
    {
     "data": {
      "text/plain": [
       "' and I live in New York.'"
      ]
     },
     "execution_count": 35,
     "metadata": {},
     "output_type": "execute_result"
    }
   ],
   "source": [
    "x.split(',')[-1]"
   ]
  },
  {
   "cell_type": "code",
   "execution_count": 36,
   "id": "ecc7296e",
   "metadata": {},
   "outputs": [],
   "source": [
    "x = (1,2,3)"
   ]
  },
  {
   "cell_type": "code",
   "execution_count": 37,
   "id": "ee861694",
   "metadata": {},
   "outputs": [
    {
     "data": {
      "text/plain": [
       "2"
      ]
     },
     "execution_count": 37,
     "metadata": {},
     "output_type": "execute_result"
    }
   ],
   "source": [
    "x[1]"
   ]
  },
  {
   "cell_type": "code",
   "execution_count": 38,
   "id": "61e96ca4",
   "metadata": {},
   "outputs": [
    {
     "ename": "TypeError",
     "evalue": "'tuple' object does not support item assignment",
     "output_type": "error",
     "traceback": [
      "\u001b[31m---------------------------------------------------------------------------\u001b[39m",
      "\u001b[31mTypeError\u001b[39m                                 Traceback (most recent call last)",
      "\u001b[36mCell\u001b[39m\u001b[36m \u001b[39m\u001b[32mIn[38]\u001b[39m\u001b[32m, line 1\u001b[39m\n\u001b[32m----> \u001b[39m\u001b[32m1\u001b[39m \u001b[43mx\u001b[49m\u001b[43m[\u001b[49m\u001b[32;43m1\u001b[39;49m\u001b[43m]\u001b[49m = \u001b[32m5\u001b[39m\n",
      "\u001b[31mTypeError\u001b[39m: 'tuple' object does not support item assignment"
     ]
    }
   ],
   "source": [
    "x[1] = 5"
   ]
  },
  {
   "cell_type": "code",
   "execution_count": 1,
   "id": "00860210",
   "metadata": {},
   "outputs": [],
   "source": [
    "x = [82,45,56,78,50,96,62,72]\n",
    "y = [65,60,58,67,48,88,80,87]"
   ]
  },
  {
   "cell_type": "code",
   "execution_count": 67,
   "id": "4ed848e3",
   "metadata": {},
   "outputs": [],
   "source": [
    "import numpy as np\n",
    "import math\n",
    "\n",
    "#x and y data\n",
    "x = np.array([55,48,20,64,72,80,30])\n",
    "y = np.array([98,82,105,79,76,84,100])\n",
    "\n",
    "# mean value\n",
    "mean_x = np.mean(x)\n",
    "mean_y = np.mean(y)\n",
    "\n",
    "# variance\n",
    "v_x = np.sum((x-mean_x)**2)/(len(x))\n",
    "v_y = np.sum((y-mean_y)**2)/(len(y))\n",
    "\n",
    "# covariance\n",
    "s_xy = np.sum((x-mean_x)*(y-mean_y))/(len(x))\n",
    "\n",
    "# correlation coefficient\n",
    "res = s_xy / (math.sqrt(v_x)*math.sqrt(v_y))\n"
   ]
  },
  {
   "cell_type": "code",
   "execution_count": 35,
   "id": "3beb42d4",
   "metadata": {},
   "outputs": [
    {
     "name": "stdout",
     "output_type": "stream",
     "text": [
      "x1: 4870.625\n",
      "x2: 38965\n"
     ]
    }
   ],
   "source": [
    "x1 = np.sum(x**2)/len(x)\n",
    "print(f\"x1: {x1}\\nx2: {np.sum(x**2)}\")"
   ]
  },
  {
   "cell_type": "code",
   "execution_count": 68,
   "id": "d21c8468",
   "metadata": {},
   "outputs": [
    {
     "name": "stdout",
     "output_type": "stream",
     "text": [
      "Variance x: 408.20\n",
      "Variance y: 114.41\n",
      "Covariance xy: -174.24\n",
      "Correlatio coefficient: -0.81\n"
     ]
    }
   ],
   "source": [
    "print(\n",
    "    f\"Variance x: {v_x:.2f}\\n\"\n",
    "    f\"Variance y: {v_y:.2f}\\n\"\n",
    "    f\"Covariance xy: {s_xy:.2f}\\n\"\n",
    "    f\"Correlatio coefficient: {res:.2f}\")"
   ]
  },
  {
   "cell_type": "code",
   "execution_count": 69,
   "id": "9a9daf9e",
   "metadata": {},
   "outputs": [
    {
     "name": "stdout",
     "output_type": "stream",
     "text": [
      "a: -0.43\n",
      "b: 111.64\n",
      "\n"
     ]
    }
   ],
   "source": [
    "a = s_xy / v_x\n",
    "b = mean_y - a*mean_x\n",
    "\n",
    "print(\n",
    "    f\"a: {a:.2f}\\n\"\n",
    "    f\"b: {b:.2f}\\n\"\n",
    ")"
   ]
  },
  {
   "cell_type": "code",
   "execution_count": 71,
   "id": "1f652461",
   "metadata": {},
   "outputs": [
    {
     "data": {
      "text/plain": [
       "[<matplotlib.lines.Line2D at 0x2b679810910>]"
      ]
     },
     "execution_count": 71,
     "metadata": {},
     "output_type": "execute_result"
    },
    {
     "data": {
      "image/png": "[encoded data removed]",
      "text/plain": [
       "<Figure size 800x600 with 1 Axes>"
      ]
     },
     "metadata": {},
     "output_type": "display_data"
    }
   ],
   "source": [
    "#Refression line\n",
    "import matplotlib.pyplot as plt\n",
    "\n",
    "#Scatter diagram\n",
    "plt.figure(figsize=(8,6))\n",
    "plt.scatter(x,y,color='blue', marker='o')\n",
    "plt.xlim(0,200)\n",
    "plt.ylim(0,200)\n",
    "\n",
    "plt.title('Scatter plot of x and y')\n",
    "plt.xlabel('x values')\n",
    "plt.ylabel('y values')\n",
    "\n",
    "#Regression line\n",
    "x_vals = np.array([0,100]) #x axis range\n",
    "y_vals = a * x_vals + b\n",
    "\n",
    "plt.plot(x_vals, y_vals, color = 'red', label = f'Regression line\\ny = {a:.2f}x + {b:.2f}')\n"
   ]
  }
 ],
 "metadata": {
  "kernelspec": {
   "display_name": "Python 3",
   "language": "python",
   "name": "python3"
  },
  "language_info": {
   "codemirror_mode": {
    "name": "ipython",
    "version": 3
   },
   "file_extension": ".py",
   "mimetype": "text/x-python",
   "name": "python",
   "nbconvert_exporter": "python",
   "pygments_lexer": "ipython3",
   "version": "3.13.5"
  }
 },
 "nbformat": 4,
 "nbformat_minor": 5
}
