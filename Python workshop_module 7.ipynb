{
 "cells": [
  {
   "cell_type": "code",
   "execution_count": 7,
   "id": "968bee1c",
   "metadata": {},
   "outputs": [],
   "source": [
    "def find_list_length(x):\n",
    "    result = len(x)\n",
    "    print('hello')\n",
    "    return result\n",
    "    print('goodbye')"
   ]
  },
  {
   "cell_type": "code",
   "execution_count": 4,
   "id": "9ed3ff0b",
   "metadata": {},
   "outputs": [
    {
     "data": {
      "text/plain": [
       "4"
      ]
     },
     "execution_count": 4,
     "metadata": {},
     "output_type": "execute_result"
    }
   ],
   "source": [
    "find_list_length([1,2,3,4])"
   ]
  },
  {
   "cell_type": "code",
   "execution_count": 5,
   "id": "fab196c6",
   "metadata": {},
   "outputs": [],
   "source": [
    "y = [1,2,3,4,5]"
   ]
  },
  {
   "cell_type": "code",
   "execution_count": 8,
   "id": "0857886e",
   "metadata": {},
   "outputs": [
    {
     "name": "stdout",
     "output_type": "stream",
     "text": [
      "hello\n"
     ]
    },
    {
     "data": {
      "text/plain": [
       "5"
      ]
     },
     "execution_count": 8,
     "metadata": {},
     "output_type": "execute_result"
    }
   ],
   "source": [
    "find_list_length(y)"
   ]
  },
  {
   "cell_type": "code",
   "execution_count": 10,
   "id": "349c0ff8",
   "metadata": {},
   "outputs": [],
   "source": [
    "lent = ['daniel', 'pannkhuri', 'modupe', 'omar']\n",
    "returned = ['pannkhuri', 'omar']"
   ]
  },
  {
   "cell_type": "code",
   "execution_count": 11,
   "id": "6f84d596",
   "metadata": {},
   "outputs": [
    {
     "name": "stdout",
     "output_type": "stream",
     "text": [
      "['daniel', 'modupe']\n"
     ]
    }
   ],
   "source": [
    "result = []\n",
    "\n",
    "for i in lent:\n",
    "    if (i in returned) == False:\n",
    "        result.append(i)\n",
    "\n",
    "print (result)"
   ]
  },
  {
   "cell_type": "code",
   "execution_count": 14,
   "id": "40046e77",
   "metadata": {},
   "outputs": [],
   "source": [
    "def subtract_lists(list1, list2):\n",
    "    result = []\n",
    "\n",
    "    for i in list1:\n",
    "        if (i in list2) == False:\n",
    "            result.append(i)\n",
    "    \n",
    "    return result"
   ]
  },
  {
   "cell_type": "code",
   "execution_count": 15,
   "id": "93850a75",
   "metadata": {},
   "outputs": [
    {
     "data": {
      "text/plain": [
       "['daniel', 'modupe']"
      ]
     },
     "execution_count": 15,
     "metadata": {},
     "output_type": "execute_result"
    }
   ],
   "source": [
    "subtract_lists(lent, returned)"
   ]
  },
  {
   "cell_type": "code",
   "execution_count": 17,
   "id": "f7b20441",
   "metadata": {},
   "outputs": [],
   "source": [
    "def find_sum(a, b):\n",
    "    result = a + b\n",
    "\n",
    "    return result\n",
    "    "
   ]
  },
  {
   "cell_type": "code",
   "execution_count": 18,
   "id": "1a1dbc37",
   "metadata": {},
   "outputs": [
    {
     "data": {
      "text/plain": [
       "5"
      ]
     },
     "execution_count": 18,
     "metadata": {},
     "output_type": "execute_result"
    }
   ],
   "source": [
    "find_sum(1,4)"
   ]
  },
  {
   "cell_type": "code",
   "execution_count": 4,
   "id": "b16e7b1f",
   "metadata": {},
   "outputs": [],
   "source": [
    "def add_to_list(the_list, item):\n",
    "    x = list(the_list)\n",
    "    x.append(item)\n",
    "    return(ｘ)"
   ]
  },
  {
   "cell_type": "code",
   "execution_count": 2,
   "id": "5fa1face",
   "metadata": {},
   "outputs": [],
   "source": [
    "x = [1,2,3]"
   ]
  },
  {
   "cell_type": "code",
   "execution_count": 5,
   "id": "dd42b988",
   "metadata": {},
   "outputs": [
    {
     "data": {
      "text/plain": [
       "[1, 2, 3, 11]"
      ]
     },
     "execution_count": 5,
     "metadata": {},
     "output_type": "execute_result"
    }
   ],
   "source": [
    "add_to_list(x, 11)"
   ]
  },
  {
   "cell_type": "code",
   "execution_count": 31,
   "id": "681e11f2",
   "metadata": {},
   "outputs": [
    {
     "data": {
      "text/plain": [
       "[1, 2, 3]"
      ]
     },
     "execution_count": 31,
     "metadata": {},
     "output_type": "execute_result"
    }
   ],
   "source": [
    "x"
   ]
  }
 ],
 "metadata": {
  "kernelspec": {
   "display_name": "Python 3",
   "language": "python",
   "name": "python3"
  },
  "language_info": {
   "codemirror_mode": {
    "name": "ipython",
    "version": 3
   },
   "file_extension": ".py",
   "mimetype": "text/x-python",
   "name": "python",
   "nbconvert_exporter": "python",
   "pygments_lexer": "ipython3",
   "version": "3.13.5"
  }
 },
 "nbformat": 4,
 "nbformat_minor": 5
}
