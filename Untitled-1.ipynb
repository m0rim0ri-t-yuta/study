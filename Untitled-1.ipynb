{
 "cells": [
  {
   "cell_type": "code",
   "execution_count": null,
   "id": "ef682405",
   "metadata": {},
   "outputs": [],
   "source": [
    "import matplotlib.pyplot as plt\n",
    "test_result = [{82, 65},\n",
    "               {45, 60},\n",
    "               {56, 58},\n",
    "               {78, 67},\n",
    "               {50, 48},\n",
    "               {96, 88},\n",
    "               {64, 80},\n",
    "               {72, 87}]\n",
    "\n",
    "#Extract x and y values\n",
    "x_vals = []\n",
    "y_vals = []\n",
    "for s in test_result:\n",
    "    x,y = list(s)\n",
    "    x_vals.append(x)\n",
    "    y_vals.append(y)\n",
    "\n",
    "#Create scater plot\n",
    "plt.figure(figsize = (6,6))\n",
    "plt.scatter(x_vals,y_vals, color='blue')\n",
    "\n",
    "#Annoate each point\n",
    "for x,y in zip(x_vals, y_vals):\n",
    "    plt.annotate(f'({x},{y})', (x,y), textcoords = \"offset points\", xytext=(5,5), ha='center')\n",
    "\n",
    "#Add labels and grid\n",
    "plt.xlim(0,100)\n",
    "plt.ylim(0,100)\n",
    "plt.xlabel('x')\n",
    "plt.xlabel('y')\n",
    "plt.grid(True)\n",
    "plt.show()"
   ]
  }
 ],
 "metadata": {
  "language_info": {
   "name": "python"
  }
 },
 "nbformat": 4,
 "nbformat_minor": 5
}
