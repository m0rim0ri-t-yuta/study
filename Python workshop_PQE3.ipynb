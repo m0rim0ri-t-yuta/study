{
 "cells": [
  {
   "cell_type": "code",
   "execution_count": null,
   "id": "725e0e00",
   "metadata": {},
   "outputs": [
    {
     "name": "stdout",
     "output_type": "stream",
     "text": [
      "1111111111\n",
      "True\n"
     ]
    }
   ],
   "source": [
    "phone_number = \"111-111-1111\"\n",
    "\n",
    "phone_number = phone_number.replace(\"-\",\"\")\n",
    "\n",
    "if len(phone_number) == 10:\n",
    "    phone_number = True\n",
    "else:\n",
    "    phone_number = False\n",
    "\n",
    "print (phone_number)\n"
   ]
  },
  {
   "cell_type": "code",
   "execution_count": 22,
   "id": "949ee2d3",
   "metadata": {},
   "outputs": [
    {
     "name": "stdout",
     "output_type": "stream",
     "text": [
      "True\n"
     ]
    }
   ],
   "source": [
    "strings = ['Peter Parker!', 'what? confusing, huh?']\n",
    "special_limit = 6\n",
    "count = 0\n",
    "#i_No_str; the number of words in strings\n",
    "for i_strings in strings:\n",
    "    for char in i_strings:\n",
    "        if not (char.isalpha() or char.isdigit() or char == ','):\n",
    "            count += 1\n",
    "            \n",
    "\n",
    "if count <= special_limit:\n",
    "    output = True\n",
    "else:\n",
    "    output =False\n",
    "\n",
    "print(output)"
   ]
  },
  {
   "cell_type": "code",
   "execution_count": 9,
   "id": "9681cbd5",
   "metadata": {},
   "outputs": [
    {
     "data": {
      "text/plain": [
       "21"
      ]
     },
     "execution_count": 9,
     "metadata": {},
     "output_type": "execute_result"
    }
   ],
   "source": [
    "len(i_No_str)"
   ]
  },
  {
   "cell_type": "code",
   "execution_count": 41,
   "id": "d02cb75a",
   "metadata": {},
   "outputs": [
    {
     "name": "stdout",
     "output_type": "stream",
     "text": [
      "{'Max': {'847-383-2232', 'max123@gmail.com'}, 'Ben': {'ben23@gmail.com', '555-383-2930'}, 'Chloe': {'chloe_smith@hotmail.com', '867-495-3928'}, 'Jim': {'540-232-0097', 'jhu1042@columbia.edu'}}\n"
     ]
    }
   ],
   "source": [
    "names = \"Max;Ben;Chloe;Jim\"\n",
    "contact_info = \"847-383-2232 max123@gmail.com 555-383-2930 ben23@gmail.com 867-495-3928 chloe_smith@hotmail.com 540-232-0097 jhu1042@columbia.edu\"\n",
    "\n",
    "name_list = names.split(\";\")\n",
    "contact_list = contact_info.split()\n",
    "\n",
    "contact_dict = {}\n",
    "\n",
    "for i in range(len(name_list)):\n",
    "    phone = contact_list[i * 2]\n",
    "    email = contact_list[i * 2 + 1]\n",
    "\n",
    "    contact_dict[name_list[i]] = {phone, email}\n",
    "\n",
    "print(contact_dict)"
   ]
  },
  {
   "cell_type": "code",
   "execution_count": null,
   "id": "43b88996",
   "metadata": {},
   "outputs": [],
   "source": []
  },
  {
   "cell_type": "code",
   "execution_count": null,
   "id": "440a53b7",
   "metadata": {},
   "outputs": [],
   "source": []
  }
 ],
 "metadata": {
  "kernelspec": {
   "display_name": "Python 3",
   "language": "python",
   "name": "python3"
  },
  "language_info": {
   "codemirror_mode": {
    "name": "ipython",
    "version": 3
   },
   "file_extension": ".py",
   "mimetype": "text/x-python",
   "name": "python",
   "nbconvert_exporter": "python",
   "pygments_lexer": "ipython3",
   "version": "3.13.5"
  }
 },
 "nbformat": 4,
 "nbformat_minor": 5
}
