{
 "cells": [
  {
   "cell_type": "code",
   "execution_count": 2,
   "id": "1faa19c1",
   "metadata": {},
   "outputs": [
    {
     "name": "stdout",
     "output_type": "stream",
     "text": [
      "[0, 1, 4, 9]\n"
     ]
    }
   ],
   "source": [
    "x = 0\n",
    "list_of_squares = []\n",
    "\n",
    "while x <=3:\n",
    "    list_of_squares.append(x**2)\n",
    "    x += 1\n",
    "\n",
    "print(list_of_squares)"
   ]
  },
  {
   "cell_type": "code",
   "execution_count": 4,
   "id": "555aba18",
   "metadata": {},
   "outputs": [
    {
     "name": "stdout",
     "output_type": "stream",
     "text": [
      "NY\n",
      "CA\n",
      "FL\n",
      "MA\n",
      "done\n"
     ]
    }
   ],
   "source": [
    "states = ['NY', 'CA', 'FL', 'MA']\n",
    "\n",
    "for state in states:\n",
    "    print(state)\n",
    "\n",
    "print('done')"
   ]
  },
  {
   "cell_type": "code",
   "execution_count": 1,
   "id": "ae997d52",
   "metadata": {},
   "outputs": [],
   "source": [
    "emails = ['daniel`guetta.com',\n",
    "          'guetta@gsb.columbia.edu',\n",
    "          'a@columbia.edu',\n",
    "          'notanemail']"
   ]
  },
  {
   "cell_type": "code",
   "execution_count": 2,
   "id": "5ff300d0",
   "metadata": {},
   "outputs": [
    {
     "data": {
      "text/plain": [
       "['daniel`guetta.com',\n",
       " 'guetta@gsb.columbia.edu',\n",
       " 'a@columbia.edu',\n",
       " 'notanemail']"
      ]
     },
     "execution_count": 2,
     "metadata": {},
     "output_type": "execute_result"
    }
   ],
   "source": [
    "emails"
   ]
  },
  {
   "cell_type": "code",
   "execution_count": 14,
   "id": "6b954853",
   "metadata": {},
   "outputs": [],
   "source": [
    "email = 'g@gsb.columbia.edu'"
   ]
  },
  {
   "cell_type": "code",
   "execution_count": 6,
   "id": "132109ec",
   "metadata": {},
   "outputs": [
    {
     "data": {
      "text/plain": [
       "True"
      ]
     },
     "execution_count": 6,
     "metadata": {},
     "output_type": "execute_result"
    }
   ],
   "source": [
    "email.lower().endswith('.edu')"
   ]
  },
  {
   "cell_type": "code",
   "execution_count": 7,
   "id": "7ea364c0",
   "metadata": {},
   "outputs": [
    {
     "data": {
      "text/plain": [
       "True"
      ]
     },
     "execution_count": 7,
     "metadata": {},
     "output_type": "execute_result"
    }
   ],
   "source": [
    "email[-4:] == '.edu'"
   ]
  },
  {
   "cell_type": "code",
   "execution_count": 8,
   "id": "d9ba633d",
   "metadata": {},
   "outputs": [
    {
     "data": {
      "text/plain": [
       "['guetta', 'gsb.columbia.edu']"
      ]
     },
     "execution_count": 8,
     "metadata": {},
     "output_type": "execute_result"
    }
   ],
   "source": [
    "email.split('@')"
   ]
  },
  {
   "cell_type": "code",
   "execution_count": 12,
   "id": "0a67ca51",
   "metadata": {},
   "outputs": [
    {
     "data": {
      "text/plain": [
       "True"
      ]
     },
     "execution_count": 12,
     "metadata": {},
     "output_type": "execute_result"
    }
   ],
   "source": [
    "len(email.split('@')[0]) >= 3"
   ]
  },
  {
   "cell_type": "code",
   "execution_count": 15,
   "id": "65084953",
   "metadata": {},
   "outputs": [
    {
     "name": "stdout",
     "output_type": "stream",
     "text": [
      "email invalid\n"
     ]
    }
   ],
   "source": [
    "if (email.lower().endswith('.edu')) and ('@' in email) and (email.find('@') >= 3):\n",
    "    print('email valid')\n",
    "else:\n",
    "    print('email invalid')"
   ]
  },
  {
   "cell_type": "code",
   "execution_count": 17,
   "id": "5d456a9b",
   "metadata": {},
   "outputs": [
    {
     "name": "stdout",
     "output_type": "stream",
     "text": [
      "['guetta@gsb.columbia.edu']\n",
      "['daniel`guetta.com', 'a@columbia.edu', 'notanemail']\n"
     ]
    }
   ],
   "source": [
    "correct_emails = []\n",
    "wrong_emails = []\n",
    "\n",
    "for email in emails:\n",
    "    if (email.lower().endswith('.edu')) and ('@' in email) and (email.find('@') >= 3):\n",
    "        correct_emails.append(email)\n",
    "    else:\n",
    "        wrong_emails.append(email)\n",
    "\n",
    "print(correct_emails)\n",
    "print(wrong_emails)"
   ]
  },
  {
   "cell_type": "code",
   "execution_count": 18,
   "id": "ac2bfee8",
   "metadata": {},
   "outputs": [
    {
     "name": "stdout",
     "output_type": "stream",
     "text": [
      "0\n",
      "1\n",
      "2\n",
      "3\n",
      "4\n",
      "5\n"
     ]
    }
   ],
   "source": [
    "for i in [0,1,2,3,4,5]:\n",
    "    print(i)"
   ]
  },
  {
   "cell_type": "code",
   "execution_count": 19,
   "id": "e459d159",
   "metadata": {},
   "outputs": [
    {
     "name": "stdout",
     "output_type": "stream",
     "text": [
      "0\n",
      "1\n",
      "2\n",
      "3\n",
      "4\n"
     ]
    }
   ],
   "source": [
    "for i in range(5):\n",
    "    print(i)"
   ]
  },
  {
   "cell_type": "code",
   "execution_count": 21,
   "id": "0fd300ea",
   "metadata": {},
   "outputs": [
    {
     "name": "stdout",
     "output_type": "stream",
     "text": [
      "[9, 16, 25, 36, 49, 64, 81, 100, 121, 144, 169, 196, 225, 256, 289, 324, 361, 400, 441, 484, 529, 576, 625, 676, 729, 784, 841]\n"
     ]
    }
   ],
   "source": [
    "list_of_squares = []\n",
    "\n",
    "for x in range(3,30):\n",
    "    list_of_squares.append(x**2)\n",
    "\n",
    "print(list_of_squares)"
   ]
  },
  {
   "cell_type": "code",
   "execution_count": 22,
   "id": "221796f2",
   "metadata": {},
   "outputs": [
    {
     "data": {
      "text/plain": [
       "range(0, 5)"
      ]
     },
     "execution_count": 22,
     "metadata": {},
     "output_type": "execute_result"
    }
   ],
   "source": [
    "range(5)"
   ]
  },
  {
   "cell_type": "code",
   "execution_count": 24,
   "id": "1dd76023",
   "metadata": {},
   "outputs": [
    {
     "name": "stdout",
     "output_type": "stream",
     "text": [
      "[1, 9, 25, 49, 81]\n"
     ]
    }
   ],
   "source": [
    "squared_list = []\n",
    "\n",
    "for i in range(10):\n",
    "    if (i % 2) == 1:\n",
    "        squared_list.append(i**2)\n",
    "\n",
    "print(squared_list)"
   ]
  },
  {
   "cell_type": "code",
   "execution_count": 27,
   "id": "7a1c476e",
   "metadata": {},
   "outputs": [
    {
     "name": "stdout",
     "output_type": "stream",
     "text": [
      "[1, 9, 25, 49, 81]\n"
     ]
    }
   ],
   "source": [
    "squared_list = []\n",
    "\n",
    "for i in range(10):\n",
    "    if (i % 2 == 0):\n",
    "        continue\n",
    "\n",
    "    squared_list.append(i**2)\n",
    "\n",
    "print(squared_list)"
   ]
  },
  {
   "cell_type": "code",
   "execution_count": 28,
   "id": "305ec10e",
   "metadata": {},
   "outputs": [
    {
     "name": "stdout",
     "output_type": "stream",
     "text": [
      "[1, 9, 25, 49, 81]\n"
     ]
    }
   ],
   "source": [
    "squared_list = []\n",
    "\n",
    "for i in range(100):\n",
    "    if (i % 2) == 1:\n",
    "        squared_list.append(i**2)\n",
    "\n",
    "    if (i >= 9):\n",
    "        break\n",
    "\n",
    "print(squared_list)"
   ]
  },
  {
   "cell_type": "code",
   "execution_count": 38,
   "id": "7e5ed854",
   "metadata": {},
   "outputs": [
    {
     "name": "stdout",
     "output_type": "stream",
     "text": [
      "1\n",
      "2\n",
      "4\n",
      "7\n",
      "8\n",
      "11\n",
      "13\n",
      "14\n",
      "16\n",
      "17\n",
      "19\n",
      "22\n",
      "23\n",
      "26\n",
      "28\n",
      "29\n",
      "31\n",
      "32\n",
      "34\n",
      "37\n",
      "38\n",
      "41\n",
      "43\n",
      "44\n",
      "46\n",
      "47\n",
      "49\n",
      "52\n",
      "53\n",
      "56\n",
      "58\n",
      "59\n",
      "61\n",
      "62\n",
      "64\n",
      "67\n",
      "68\n",
      "71\n",
      "73\n",
      "74\n",
      "76\n",
      "77\n",
      "79\n",
      "82\n",
      "83\n",
      "86\n",
      "88\n",
      "89\n",
      "91\n",
      "92\n",
      "94\n",
      "97\n",
      "98\n",
      "Fizz: [3, 6, 9, 12, 15, 18, 21, 24, 27, 30, 33, 36, 39, 42, 45, 48, 51, 54, 57, 60, 63, 66, 69, 72, 75, 78, 81, 84, 87, 90, 93, 96, 99]\n",
      "Buzz: [5, 10, 20, 25, 35, 40, 50, 55, 65, 70, 80, 85, 95, 100]\n",
      "FizzBuzz: []\n"
     ]
    }
   ],
   "source": [
    "Fizz_list = []\n",
    "Buzz_list = []\n",
    "FizzBuzz_list = []\n",
    "\n",
    "for i in range(1,101):\n",
    "    if (i % 3) == 0:\n",
    "        Fizz_list.append(i)\n",
    "    \n",
    "    elif (i % 5) == 0:\n",
    "        Buzz_list.append(i)\n",
    "\n",
    "    elif (i % 3) == 0 and (i % 5) == 0:\n",
    "        FizzBuzz_list.append(i)\n",
    "\n",
    "    else:\n",
    "        print(i)\n",
    "\n",
    "print(f'Fizz:', Fizz_list)\n",
    "print(f'Buzz:', Buzz_list)\n",
    "print(f'FizzBuzz:', FizzBuzz_list)"
   ]
  }
 ],
 "metadata": {
  "kernelspec": {
   "display_name": "Python 3",
   "language": "python",
   "name": "python3"
  },
  "language_info": {
   "codemirror_mode": {
    "name": "ipython",
    "version": 3
   },
   "file_extension": ".py",
   "mimetype": "text/x-python",
   "name": "python",
   "nbconvert_exporter": "python",
   "pygments_lexer": "ipython3",
   "version": "3.13.5"
  }
 },
 "nbformat": 4,
 "nbformat_minor": 5
}
