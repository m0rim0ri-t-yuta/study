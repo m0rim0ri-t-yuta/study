{
 "cells": [
  {
   "cell_type": "code",
   "execution_count": 2,
   "id": "69a16eb0",
   "metadata": {},
   "outputs": [
    {
     "data": {
      "text/plain": [
       "[0, 1, 4, 9, 16, 25, 36, 49, 64, 81]"
      ]
     },
     "execution_count": 2,
     "metadata": {},
     "output_type": "execute_result"
    }
   ],
   "source": [
    "x"
   ]
  },
  {
   "cell_type": "code",
   "execution_count": 4,
   "id": "53e3157b",
   "metadata": {},
   "outputs": [],
   "source": [
    "x = [i**2 for i in range (10)]"
   ]
  },
  {
   "cell_type": "code",
   "execution_count": 5,
   "id": "ec075632",
   "metadata": {},
   "outputs": [
    {
     "data": {
      "text/plain": [
       "[0, 1, 4, 9, 16, 25, 36, 49, 64, 81]"
      ]
     },
     "execution_count": 5,
     "metadata": {},
     "output_type": "execute_result"
    }
   ],
   "source": [
    "x"
   ]
  },
  {
   "cell_type": "code",
   "execution_count": 9,
   "id": "ee47b4ce",
   "metadata": {},
   "outputs": [],
   "source": [
    "def is_n_words(sentence, n):\n",
    "    words = len(sentence.split())\n",
    "    if n == words:\n",
    "        print('True')\n",
    "    else:\n",
    "        print('False')"
   ]
  },
  {
   "cell_type": "code",
   "execution_count": 10,
   "id": "cd775f67",
   "metadata": {},
   "outputs": [
    {
     "name": "stdout",
     "output_type": "stream",
     "text": [
      "False\n"
     ]
    }
   ],
   "source": [
    "sentence = \"Wlecome to CBS\"\n",
    "is_n_words(sentence, 2)"
   ]
  },
  {
   "cell_type": "code",
   "execution_count": 11,
   "id": "b8acf942",
   "metadata": {},
   "outputs": [
    {
     "name": "stdout",
     "output_type": "stream",
     "text": [
      "True\n"
     ]
    }
   ],
   "source": [
    "sentence = \"Wlecome to CBS\"\n",
    "is_n_words(sentence, 3)"
   ]
  },
  {
   "cell_type": "code",
   "execution_count": 23,
   "id": "55c73186",
   "metadata": {},
   "outputs": [],
   "source": [
    "def facotry_capacity(t):\n",
    "    if t < 3:\n",
    "        fc = 75 * t\n",
    "    elif 3 <= t < 6:\n",
    "        fc = 75 * 3 + 95*(t-3)\n",
    "    elif t >= 6:\n",
    "        fc = 75*3 + 95*3 + 115*(t-6)\n",
    "    \n",
    "    return fc\n",
    "\n"
   ]
  },
  {
   "cell_type": "code",
   "execution_count": 19,
   "id": "1003c432",
   "metadata": {},
   "outputs": [
    {
     "data": {
      "text/plain": [
       "150"
      ]
     },
     "execution_count": 19,
     "metadata": {},
     "output_type": "execute_result"
    }
   ],
   "source": [
    "facotry_capacity(2)"
   ]
  },
  {
   "cell_type": "code",
   "execution_count": 24,
   "id": "9fdb3cfc",
   "metadata": {},
   "outputs": [
    {
     "data": {
      "text/plain": [
       "320"
      ]
     },
     "execution_count": 24,
     "metadata": {},
     "output_type": "execute_result"
    }
   ],
   "source": [
    "facotry_capacity(4)"
   ]
  },
  {
   "cell_type": "code",
   "execution_count": 22,
   "id": "4a5ee20d",
   "metadata": {},
   "outputs": [
    {
     "data": {
      "text/plain": [
       "75"
      ]
     },
     "execution_count": 22,
     "metadata": {},
     "output_type": "execute_result"
    }
   ],
   "source": [
    "facotry_capacity(1)"
   ]
  },
  {
   "cell_type": "code",
   "execution_count": 25,
   "id": "ef2ccb25",
   "metadata": {},
   "outputs": [],
   "source": [
    "bid_details = {'David': 250, 'Nancy': 200, 'Alfred': 150}"
   ]
  },
  {
   "cell_type": "code",
   "execution_count": 50,
   "id": "2646e7c7",
   "metadata": {},
   "outputs": [
    {
     "data": {
      "text/plain": [
       "dict_values([250, 200, 150])"
      ]
     },
     "execution_count": 50,
     "metadata": {},
     "output_type": "execute_result"
    }
   ],
   "source": [
    "bid_details.values()"
   ]
  },
  {
   "cell_type": "code",
   "execution_count": 51,
   "id": "92badeec",
   "metadata": {},
   "outputs": [],
   "source": [
    "def second_price(bid_details):\n",
    "    bid_values = bid_details.values()\n",
    "    bid_values = sorted(bid_values)\n",
    "\n",
    "    highest_bid = bid_values[-1]\n",
    "    second_highest_bid = bid_values[-2]\n",
    "\n",
    "    for i in bid_details:\n",
    "        if bid_details[i] == highest_bid:\n",
    "            out = {'bidder':i, 'amount':second_highest_bid}\n",
    " \n",
    "    return out\n"
   ]
  },
  {
   "cell_type": "code",
   "execution_count": 52,
   "id": "55285f5f",
   "metadata": {},
   "outputs": [
    {
     "data": {
      "text/plain": [
       "{'bidder': 'David', 'amount': 200}"
      ]
     },
     "execution_count": 52,
     "metadata": {},
     "output_type": "execute_result"
    }
   ],
   "source": [
    "second_price(bid_details)"
   ]
  },
  {
   "cell_type": "code",
   "execution_count": 47,
   "id": "e7a41b10",
   "metadata": {},
   "outputs": [],
   "source": [
    "sort_bids = sorted(bid_details)"
   ]
  },
  {
   "cell_type": "code",
   "execution_count": 48,
   "id": "80784e29",
   "metadata": {},
   "outputs": [
    {
     "data": {
      "text/plain": [
       "['Alfred', 'David', 'Nancy']"
      ]
     },
     "execution_count": 48,
     "metadata": {},
     "output_type": "execute_result"
    }
   ],
   "source": [
    "sort_bids"
   ]
  },
  {
   "cell_type": "code",
   "execution_count": 10,
   "id": "605242e6",
   "metadata": {},
   "outputs": [
    {
     "name": "stdout",
     "output_type": "stream",
     "text": [
      "jsmith23@gsb.columbia.edu\n"
     ]
    }
   ],
   "source": [
    "name = \"Jon Smith\"\n",
    "\n",
    "year = 2023\n",
    "\n",
    "first, last = name.split()\n",
    "\n",
    "digit = str(year)[-2:]\n",
    "\n",
    "email = str(first[0].lower()) + str(last.lower()) + str(digit) + \"@gsb.columbia.edu\"\n",
    "\n",
    "print(email)"
   ]
  },
  {
   "cell_type": "code",
   "execution_count": 67,
   "id": "eee75626",
   "metadata": {},
   "outputs": [
    {
     "name": "stdout",
     "output_type": "stream",
     "text": [
      "[]\n"
     ]
    }
   ],
   "source": [
    "words = ['a', 'a', 'b', 'c']\n",
    "to_exclude = ['a', 'b', 'c']\n",
    "\n",
    "unique_words = []\n",
    "result = []\n",
    "\n",
    "\n",
    "for i in words:\n",
    "    if (i not in unique_words) and (i not in to_exclude):\n",
    "        unique_words.append(i)\n",
    "\n",
    "unique_words = sorted(unique_words)\n",
    "\n",
    "print(unique_words)"
   ]
  },
  {
   "cell_type": "code",
   "execution_count": 1,
   "id": "f661a2f1",
   "metadata": {},
   "outputs": [
    {
     "name": "stdout",
     "output_type": "stream",
     "text": [
      "{'name': 'daniel', 'days_free': ['M', 'T', 'W']}\n",
      "{'name': 'ben', 'days_free': ['T', 'W', 'R']}\n",
      "{'name': 'aisha', 'days_free': ['R', 'F']}\n",
      "['daniel', 'ben']\n"
     ]
    }
   ],
   "source": [
    "schedule = [{'name': 'daniel', 'days_free': ['M', 'T', 'W']}, \n",
    "            {'name': 'ben', 'days_free': ['T', 'W', 'R']}, \n",
    "            {'name': 'aisha', 'days_free': ['R', 'F']}\n",
    "            ]\n",
    "\n",
    "event_day = \"F\"\n",
    "\n",
    "unavailable = []\n",
    "for person in schedule:\n",
    "    print(person)\n",
    "    if event_day not in person['days_free']:\n",
    "        unavailable.append(person['name'])\n",
    "\n",
    "print(unavailable)"
   ]
  },
  {
   "cell_type": "markdown",
   "id": "1fbe4d9c",
   "metadata": {},
   "source": []
  }
 ],
 "metadata": {
  "kernelspec": {
   "display_name": "Python 3",
   "language": "python",
   "name": "python3"
  },
  "language_info": {
   "codemirror_mode": {
    "name": "ipython",
    "version": 3
   },
   "file_extension": ".py",
   "mimetype": "text/x-python",
   "name": "python",
   "nbconvert_exporter": "python",
   "pygments_lexer": "ipython3",
   "version": "3.13.5"
  }
 },
 "nbformat": 4,
 "nbformat_minor": 5
}
