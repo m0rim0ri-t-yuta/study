{
 "cells": [
  {
   "cell_type": "code",
   "execution_count": 1,
   "id": "b365de83",
   "metadata": {},
   "outputs": [
    {
     "name": "stdout",
     "output_type": "stream",
     "text": [
      "False\n"
     ]
    }
   ],
   "source": [
    "password = \"Welcome2CBS\"\n",
    "\n",
    "digit = [char for char in password if char.isdigit()]\n",
    "\n",
    "if (len(password) >= 8) and (len(digit) >= 2):\n",
    "    print(True)\n",
    "else:\n",
    "    print(False)"
   ]
  },
  {
   "cell_type": "code",
   "execution_count": 5,
   "id": "e052d785",
   "metadata": {},
   "outputs": [
    {
     "data": {
      "text/plain": [
       "6"
      ]
     },
     "execution_count": 5,
     "metadata": {},
     "output_type": "execute_result"
    }
   ],
   "source": [
    "digits[2]"
   ]
  },
  {
   "cell_type": "code",
   "execution_count": 18,
   "id": "09f67e6b",
   "metadata": {},
   "outputs": [
    {
     "name": "stdout",
     "output_type": "stream",
     "text": [
      "108\n",
      "324.0\n"
     ]
    }
   ],
   "source": [
    "digits = [4,12,36,108]\n",
    "\n",
    "print(digits[3])\n",
    "\n",
    "if digits[2]/digits[1] == (digits[3]/digits[2]):\n",
    "    Output = digits[3] * (digits[3]/digits[2])\n",
    "else:\n",
    "    Output = digits[3] + (digits[3]- digits[2])\n",
    "\n",
    "print(Output)\n"
   ]
  },
  {
   "cell_type": "code",
   "execution_count": 27,
   "id": "3abfb6bd",
   "metadata": {},
   "outputs": [
    {
     "name": "stdout",
     "output_type": "stream",
     "text": [
      "3\n"
     ]
    }
   ],
   "source": [
    "phrase_list = ['hello world', 'python', 'business', 'big', 'a tree']\n",
    "required_length = 6\n",
    "\n",
    "output = [words for words in phrase_list if len(words.replace(\" \",\"\")) >= required_length]\n",
    "\n",
    "output = len(output)\n",
    "\n",
    "print(output)\n"
   ]
  },
  {
   "cell_type": "code",
   "execution_count": 25,
   "id": "d31bd5f7",
   "metadata": {},
   "outputs": [
    {
     "name": "stdout",
     "output_type": "stream",
     "text": [
      "John Doe <JohnDoe23@xyz.com>; John Smith <john@xyz.com>; Ben Gonzalez <ben@xyz.com>\n"
     ]
    }
   ],
   "source": [
    "#emails  = \"John, Doe <JohnDoe23@xyz.com>; John, Smith <john@xyz.com>\"\n",
    "emails = \"John Doe <JohnDoe23@xyz.com>, John Smith <john@xyz.com>, Ben Gonzalez <ben@xyz.com>\"\n",
    "if \";\" in emails:\n",
    "    emails = emails.replace(\",\",\"\")\n",
    "    emails = emails.replace(\";\",\",\")\n",
    "else:\n",
    "    emails = emails.replace(\",\",\";\")\n",
    "\n",
    "print(emails)"
   ]
  },
  {
   "cell_type": "code",
   "execution_count": 12,
   "id": "95bf7575",
   "metadata": {},
   "outputs": [
    {
     "data": {
      "text/plain": [
       "'John Doe <JohnDoe23@xyz.com>; John Smith <john@xyz.com>; Ben Gonzalez <ben@xyz.com>'"
      ]
     },
     "execution_count": 12,
     "metadata": {},
     "output_type": "execute_result"
    }
   ],
   "source": [
    "emails = \"John Doe <JohnDoe23@xyz.com>, John Smith <john@xyz.com>, Ben Gonzalez <ben@xyz.com>\"\n",
    "\n",
    "emails.replace(\",\",\";\")"
   ]
  },
  {
   "cell_type": "code",
   "execution_count": 38,
   "id": "f589f366",
   "metadata": {},
   "outputs": [
    {
     "name": "stdout",
     "output_type": "stream",
     "text": [
      "['goog', 'goog', 'goog', 'pltr', 'ge', 'pltr', 'goog', 'vz']\n",
      "['goog', 'pltr']\n"
     ]
    }
   ],
   "source": [
    "s = \"goog goog goog pltr ge pltr goog vz\"\n",
    "\n",
    "s_list = [letter.strip() for letter in s.split(\" \")]\n",
    "print(s_list)\n",
    "output = []\n",
    "\n",
    "for i in s_list:\n",
    "    if (s_list.count(i) > 1) and (i not in output):\n",
    "        output.append(i)\n",
    "\n",
    "print(output)\n",
    "    "
   ]
  },
  {
   "cell_type": "code",
   "execution_count": 50,
   "id": "76dca87b",
   "metadata": {},
   "outputs": [
    {
     "name": "stdout",
     "output_type": "stream",
     "text": [
      "{'python': [{'name': 'daniel', 'grade': 'A'}, {'name': 'ben', 'grade': 'B'}, {'name': 'mattan', 'grade': 'A'}], 'ba': [{'name': 'daniel', 'grade': 'A'}, {'name': 'alice', 'grade': 'A'}, {'name': 'megha', 'grade': 'C'}], 'stats': [{'name': 'mattan', 'grade': 'A'}, {'name': 'nizar', 'grade': 'B'}]}\n"
     ]
    }
   ],
   "source": [
    "grades = {'python': [{'name': 'daniel', 'grade': 'A'}, \n",
    "                     {'name': 'ben', 'grade': 'B'}, \n",
    "                     {'name': 'mattan', 'grade': 'A'}], \n",
    "                     'ba': [{'name': 'daniel', 'grade': 'A'}, \n",
    "                            {'name': 'alice', 'grade': 'A'},\n",
    "                            {'name': 'megha', 'grade': 'C'}], \n",
    "                            'stats': [{'name': 'mattan', 'grade': 'A'},\n",
    "                                      {'name': 'nizar', 'grade': 'B'}]}\n",
    "print(grades)"
   ]
  },
  {
   "cell_type": "code",
   "execution_count": null,
   "id": "57dad574",
   "metadata": {},
   "outputs": [
    {
     "ename": "TypeError",
     "evalue": "list indices must be integers or slices, not str",
     "output_type": "error",
     "traceback": [
      "\u001b[31m---------------------------------------------------------------------------\u001b[39m",
      "\u001b[31mTypeError\u001b[39m                                 Traceback (most recent call last)",
      "\u001b[36mCell\u001b[39m\u001b[36m \u001b[39m\u001b[32mIn[57]\u001b[39m\u001b[32m, line 9\u001b[39m\n\u001b[32m      7\u001b[39m grades = grades[item[\u001b[32m0\u001b[39m]]\n\u001b[32m      8\u001b[39m \u001b[38;5;66;03m#output = grades.grade(item[1])\u001b[39;00m\n\u001b[32m----> \u001b[39m\u001b[32m9\u001b[39m \u001b[38;5;28;01mif\u001b[39;00m item[\u001b[32m1\u001b[39m] \u001b[38;5;129;01min\u001b[39;00m \u001b[43mgrades\u001b[49m\u001b[43m[\u001b[49m\u001b[33;43m'\u001b[39;49m\u001b[33;43mname\u001b[39;49m\u001b[33;43m'\u001b[39;49m\u001b[43m]\u001b[49m:\n\u001b[32m     10\u001b[39m     output = grades[\u001b[33m'\u001b[39m\u001b[33mgrade\u001b[39m\u001b[33m'\u001b[39m]\n",
      "\u001b[31mTypeError\u001b[39m: list indices must be integers or slices, not str"
     ]
    }
   ],
   "source": [
    "grades = {'python': [{'name': 'daniel', 'grade': 'A'}, {'name': 'ben', 'grade': 'B'}, {'name': 'mattan', 'grade': 'A'}], 'ba': [{'name': 'daniel', 'grade': 'A'}, {'name': 'alice', 'grade': 'A'}, {'name': 'megha', 'grade': 'C'}], 'stats': [{'name': 'mattan', 'grade': 'A'}, {'name': 'nizar', 'grade': 'B'}]}\n",
    "search_key = \"ba:daniel\"\n",
    "\n",
    "#Define subject and person, respectively.\n",
    "item = search_key.split(\":\")\n",
    "\n",
    "grades = grades[item[0]]\n",
    "#output = grades.grade(item[1])\n",
    "if item[1] in grades['name']:\n",
    "    output = grades['grade']\n",
    "else:\n",
    "    output = \"NOT FOUND"
   ]
  }
 ],
 "metadata": {
  "kernelspec": {
   "display_name": "Python 3",
   "language": "python",
   "name": "python3"
  },
  "language_info": {
   "codemirror_mode": {
    "name": "ipython",
    "version": 3
   },
   "file_extension": ".py",
   "mimetype": "text/x-python",
   "name": "python",
   "nbconvert_exporter": "python",
   "pygments_lexer": "ipython3",
   "version": "3.13.5"
  }
 },
 "nbformat": 4,
 "nbformat_minor": 5
}
